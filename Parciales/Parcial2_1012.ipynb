{
  "nbformat": 4,
  "nbformat_minor": 0,
  "metadata": {
    "colab": {
      "provenance": [],
      "authorship_tag": "ABX9TyNfdhhaKJV7r2EvwheNru/l",
      "include_colab_link": true
    },
    "kernelspec": {
      "name": "python3",
      "display_name": "Python 3"
    },
    "language_info": {
      "name": "python"
    }
  },
  "cells": [
    {
      "cell_type": "markdown",
      "metadata": {
        "id": "view-in-github",
        "colab_type": "text"
      },
      "source": [
        "<a href=\"https://colab.research.google.com/github/jmmarinr/MetodosComputacionales1012/blob/main/Parciales/Parcial2_1012.ipynb\" target=\"_parent\"><img src=\"https://colab.research.google.com/assets/colab-badge.svg\" alt=\"Open In Colab\"/></a>"
      ]
    },
    {
      "cell_type": "code",
      "execution_count": null,
      "metadata": {
        "id": "7Y1lCE6sq6dB"
      },
      "outputs": [],
      "source": [
        "import numpy as np # Númerica\n",
        "import matplotlib.pyplot as plt # Gráficas\n",
        "from scipy.interpolate import CubicSpline, lagrange, interp1d # Interpolación\n",
        "from scipy.integrate import quad, dblquad, tplquad, trapezoid, simpson # Integración\n",
        "import sympy as sp # Símbolos"
      ]
    },
    {
      "cell_type": "markdown",
      "source": [
        "# ⚠ Importante\n",
        "\n",
        "👁 Puede usar unicamente las librerias vistas en clase (estas están en la parte superior) en caso de agregar una nueva, debe justificarla.\n",
        "\n",
        "💀 No está permitido el uso de IA's en caso de hacerlo su parcial será **anulado**!\n",
        "\n",
        "❗ Comente su código y funciones, esto hace parte de la nota.\n",
        "\n",
        "✅ Responda ordenadamente y con claridad.\n",
        "\n",
        "\n",
        "### Nombre: ___"
      ],
      "metadata": {
        "id": "ejroOZ4F4qg3"
      }
    },
    {
      "cell_type": "markdown",
      "source": [
        "# 1\n",
        "\n",
        "**(30 puntos)** Sea la función $f(x) = 3^x$,\n",
        "\n",
        "---\n",
        "\n",
        "a. Defina una función llamada derivada (ver abajo) que encuentre el valor de la derivada en $x=2$ usando diferencias finitas centrales,\n",
        "\n",
        "$$\n",
        "f'(x) ≈ \\frac{f(x+h) - f(x-h)}{2h}\n",
        "$$\n",
        "\n",
        "con una tolerancia menor a $10^{-8}$ y que retorne el valor de $f'(x=2)$ para cada valor de $h$. Tome con $h$ inicial 0.1.\n",
        "\n",
        "---\n",
        "\n",
        "b. Realice un gráfico logaritmico del error absoluto asociado a $f'(x)$ en función de $h$, conociendo que\n",
        "\n",
        "$$\n",
        "\\frac{d}{dx}(b^x) = b^x\\ln b\n",
        "$$\n",
        "\n",
        "\n",
        "\n",
        "\n",
        "\n",
        "```python\n",
        "def derivada(f,x, tol = 1e-8):\n",
        "'''\n",
        "Recuerde hacer su documentación\n",
        "'''\n",
        "\n",
        "  return valor_derivada, h_valores\n",
        "```\n",
        "\n"
      ],
      "metadata": {
        "id": "wNcvYgSvMr0P"
      }
    },
    {
      "cell_type": "code",
      "source": [
        " # Aquí va su código"
      ],
      "metadata": {
        "id": "fifYPyLU2mSN"
      },
      "execution_count": null,
      "outputs": []
    },
    {
      "cell_type": "markdown",
      "source": [
        "## 2\n",
        "\n",
        "**(40 puntos)** Considere un fluido viscoso que fluye en régimen laminar a través de una tubería cilíndrica horizontal de radio $R = 1.0\\ \\text{cm}$. Se ha medido experimentalmente la velocidad axial del fluido en distintos radios desde el centro de la tubería ($r = 0$) hasta la pared ($r = R$). Los datos obtenidos son:\n",
        "\n",
        "| $r$ (cm) | $v(r)$ (cm/s) |\n",
        "|----------|---------------|\n",
        "| 0.0      | 2.00          |\n",
        "| 0.2      | 1.92          |\n",
        "| 0.4      | 1.68          |\n",
        "| 0.6      | 1.28          |\n",
        "| 0.8      | 0.72          |\n",
        "| 1.0      | 0.00          |\n",
        "\n",
        "Con base en estos datos responda:\n",
        "\n",
        "---\n",
        "\n",
        "**a.** Encuentre una expresión para el polinomio interpolador de **Lagrange** para $v(r)$.\n",
        "\n",
        "---\n",
        "\n",
        "**b.** Usando las funciones obtenidas por **Lagrange** y **CubicSpline**, haga un gráfico donde se muestre el comportamiento de ambas interpolaciones, comparándolas con los datos experimentales.\n",
        "\n",
        "---\n",
        "\n",
        "**c.** Calcule la derivada $\\frac{dv}{dr}$, correspondiente al **gradiente de velocidad radial** usando los datos procedentes de la interpolación CubicSpline. Use `np.gradient` con $h = 10^{-4}$.\n",
        "\n",
        "---\n",
        "\n",
        "**d.** Determine el **esfuerzo cortante** en el fluido, dado por:\n",
        "\n",
        "$$\n",
        "\\tau(r) = \\mu \\frac{dv}{dr},\n",
        "$$\n",
        "\n",
        "donde $\\mu = 0.001\\ \\text{Pa}\\cdot\\text{s}$ es la viscosidad dinámica del fluido. Grafique $\\tau(r)$ para $r \\in [0, 1]$.\n",
        "\n",
        "---\n",
        "\n"
      ],
      "metadata": {
        "id": "UmhjjdEyBL7R"
      }
    },
    {
      "cell_type": "code",
      "source": [
        "# Aquí va su código"
      ],
      "metadata": {
        "id": "qBbt3yi322-3"
      },
      "execution_count": null,
      "outputs": []
    },
    {
      "cell_type": "markdown",
      "source": [
        "# 3\n",
        "\n",
        "**(30 puntos)** Considere un sólido tetraédrico $R$ delimitado por los planos:\n",
        "\n",
        "- $x = 0$, $y = 0$, $z = 0$,  \n",
        "- y el plano $x + y + z = 1$.\n",
        "\n",
        "Este sólido ocupa una región en el primer octante y está contenido completamente dentro del cubo unidad.\n",
        "\n",
        "La densidad del sólido es variable y está dada por $\\rho(x, y, z) = xyz$ [kg/m³].\n",
        "\n",
        "Considere:\n",
        "\n",
        "\n",
        "$$\n",
        "\\iiint_R f(x,y,z)\\, dV = \\int_0^1 \\int_0^{1-x} \\int_0^{1-x-y} f(x,y,z)\\, dz\\, dy\\, dx\n",
        "$$\n",
        "\n",
        "con\n",
        "\n",
        "$$\n",
        "dV = dz\\,dy\\,dx\n",
        "$$\n",
        "\n",
        "---\n",
        "\n",
        "a. Calcule la **masa total** del sólido:\n",
        "\n",
        "$$\n",
        "m = \\iiint_R \\rho(x, y, z)\\, dV.\n",
        "$$\n",
        "\n",
        "Usando la forma iterativa de `quad`, compare su resultado con `tplquad`.\n",
        "\n",
        "---\n",
        "\n",
        "b. Calcule el **momento de inercia respecto a los ejes $x$ y $z$**, definidos como:\n",
        "\n",
        "$$\n",
        "I_z = \\iiint_R (x^2 + y^2)\\, \\rho(x, y, z)\\, dV.\n",
        "$$\n",
        "\n",
        "$$\n",
        "I_x = \\iiint_R (y^2 + z^2)\\, \\rho(x, y, z)\\, dV.\n",
        "$$\n",
        "\n",
        "Puede usar la forma iterativa de `quad` o `tplquad`.\n",
        "\n",
        "\n",
        "\n"
      ],
      "metadata": {
        "id": "Qu0LchSUBfh4"
      }
    },
    {
      "cell_type": "code",
      "source": [
        "# Aquí va su código"
      ],
      "metadata": {
        "id": "7EXQFhCI24pU"
      },
      "execution_count": null,
      "outputs": []
    }
  ]
}