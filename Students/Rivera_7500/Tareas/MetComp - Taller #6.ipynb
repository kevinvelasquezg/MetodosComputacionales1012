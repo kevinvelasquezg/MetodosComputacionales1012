{
  "cells": [
    {
      "cell_type": "markdown",
      "metadata": {
        "colab_type": "text",
        "id": "view-in-github"
      },
      "source": [
        "<a href=\"https://colab.research.google.com/github/jmmarinr/ComputationalMethods/blob/master/Calculo/Actividad_06_Diferenciacio%CC%81n.ipynb\" target=\"_parent\"><img src=\"https://colab.research.google.com/assets/colab-badge.svg\" alt=\"Open In Colab\"/></a>"
      ]
    },
    {
      "cell_type": "code",
      "execution_count": 1,
      "metadata": {
        "cellView": "form",
        "id": "rZuc8vXcWuxy"
      },
      "outputs": [],
      "source": [
        "#@title Librerias\n",
        "import numpy as np\n",
        "import matplotlib.pyplot as plt\n",
        "import pandas as pd\n",
        "import sympy as sp\n",
        "from scipy.differentiate import derivative\n",
        "from scipy.interpolate import CubicSpline"
      ]
    },
    {
      "cell_type": "markdown",
      "metadata": {
        "id": "MGwGfceuWxy3"
      },
      "source": [
        "# Actividad 06: Diferenciación númerica\n",
        "\n",
        "---\n",
        "### Profesor: Juan Marcos Marín\n",
        "### Nombre: Orly de Jesus Rivera Cruz\n",
        "---"
      ]
    },
    {
      "cell_type": "markdown",
      "metadata": {
        "id": "E8ME9Aa7TbKA"
      },
      "source": [
        "# 1.\n",
        "Implementar el método de la derivada de cinco puntos a través de una función llamada `five_point_derivative`. Luego,\n",
        "* Calcule el valor para $f(x) = \\cos(x)$ utilizando un arreglo con 10 datos $[0\\leq x\\leq 2\\pi]$ y encuentre $f'(\\pi/8)$ variando el $h$ y encuentre el error de convergencia, comparando su respuesta con el valor exacto.\n",
        "\n",
        "* Determine $f''(\\pi/8)$ con $h = 0.05$ y encuentre el error de su aproximación. ¿Mejorará con un $h$ menor o mayor?\n",
        "\n"
      ]
    },
    {
      "cell_type": "code",
      "execution_count": 2,
      "metadata": {
        "id": "vyTohkly7IW_"
      },
      "outputs": [
        {
          "name": "stdout",
          "output_type": "stream",
          "text": [
            "   Tolerancias(h)    Derivada_Int(pi/8)  Derivada_Real(pi/8)  Error (1e-3)\n",
            "0        1.000000    -0.334324647635664            -0.382683     48.358785\n",
            "1        0.464159    -0.384356327321048            -0.382683      1.672895\n",
            "2        0.215443   -0.3863768584450037            -0.382683      3.693426\n",
            "3        0.100000  -0.38643839584836487            -0.382683      3.754963\n",
            "4        0.046416   -0.3864403994216835            -0.382683      3.756967\n",
            "5        0.021544   -0.3864404732394485            -0.382683      3.757041\n",
            "6        0.010000  -0.38644047624840927            -0.382683      3.757044\n",
            "7        0.004642   -0.3864404763790734            -0.382683      3.757044\n",
            "8        0.002154   -0.3864404763849211            -0.382683      3.757044\n",
            "9        0.001000   -0.3864404763851779            -0.382683      3.757044\n",
            "\n",
            "Como se puede observar el error disminuye bastante aproximadamente en h = 0.5, de hay para adelante el error va subiendo\n",
            "Esto se debe a las aproximaciones erroneas que hace la maquina\n",
            "\n",
            "El valor de la segunda derivada en pi/8 es de: -0.9279640632271664 \n",
            "Su error absoluto es de: 0.004084530715879664\n",
            "\n",
            "   Tolerancias(h)       Derivada(pi/8)  Error (1e-3)\n",
            "0        1.000000  -0.9112805826619255     12.598950\n",
            "1        0.464159  -0.9253874016798032      1.507869\n",
            "2        0.215443  -0.9278193566639311      3.939824\n",
            "3        0.100000  -0.9279574932458846      4.077961\n",
            "4        0.046416  -0.9279641768066165      4.084644\n",
            "5        0.021544  -0.9279644897914738      4.084957\n",
            "6        0.010000  -0.9279645043466593      4.084972\n",
            "7        0.004642  -0.9279645050225186      4.084973\n",
            "8        0.002154  -0.9279645050538569      4.084973\n",
            "9        0.001000  -0.9279645050553719      4.084973\n",
            "\n",
            "Como se puede observar el error disminuye bastante aproximadamente en h = 0.5 nuevamente, por lo que podemos concluir que el metodo de derivadas\n",
            "con 5 puntos es efectivo con un h no muy grande ya que converge muy rapido \n"
          ]
        }
      ],
      "source": [
        "#Ejercicio 1\n",
        "\n",
        "funcion = lambda x: np.cos(x)\n",
        "\n",
        "preimagenes = np.linspace(0 , 2*np.pi , 10) \n",
        "\n",
        "\"\"\"\n",
        "Funcion five_point_derivate\n",
        "\n",
        "Entrada:\n",
        "f = La función principal\n",
        "x = Array de los puntos que seran derivados\n",
        "h = El diferencial de longitud\n",
        "\n",
        "Salida:\n",
        "diff = Array de pendientes de los puntos\n",
        "\n",
        "\"\"\"\n",
        "\n",
        "def five_point_derivate( f , x , h ):\n",
        "    \n",
        "    diff = np.zeros_like(x)\n",
        "\n",
        "    for n in range( 0 , len(x) ):\n",
        "        if n == 0:\n",
        "            diff[n] = ( -25*f(x[n]) + 48*f(x[n] + h) - 36*f(x[n] + 2*h) + 16*f(x[n] + 3*h) - 3*f(x[n] + 4*h) ) / (12*h)\n",
        "        elif n == len(x) - 1:\n",
        "            diff[n] = ( 25*f(x[n]) - 48*f(x[n] - h) + 36*f(x[n] - 2*h) - 16*f(x[n] - 3*h) + 3*f(x[n] - 4*h) ) / (12*h)\n",
        "        else:\n",
        "            diff[n] = ( f(x[n] - 2*h) - 8*f(x[n] - h) + 8*f(x[n] + h) - f(x[n] + 2*h) ) / (12*h)\n",
        "    return diff\n",
        "\n",
        "Tolerancias = np.logspace( 0 , -3 , 10 )                                    #Diferenciales para la derivada\n",
        "\n",
        "Derivadas_puntuales = []\n",
        "Errores = []\n",
        "\n",
        "for h in Tolerancias:\n",
        "    Derivada = five_point_derivate( funcion , preimagenes , h)              #Se calcula la derivada en los puntos con algun h\n",
        "    Interpolacion = CubicSpline(preimagenes , Derivada)                     #Se interpolan los puntos para evaluar pi/8\n",
        "    Derivadas_puntuales.append( Interpolacion(np.pi/8) )                    #Se calcula el punto por medio de la interpolación\n",
        "    Errores.append( 1000*abs( - np.sin(np.pi/8) - Interpolacion(np.pi/8)) )      #Se calcula el error con el valor real de la derivada\n",
        "\n",
        "Tabla = pd.DataFrame({ \"Tolerancias(h)\": Tolerancias , \"Derivada_Int(pi/8)\": Derivadas_puntuales ,\"Derivada_Real(pi/8)\": -np.sin(np.pi/8) , \"Error (1e-3)\": Errores})\n",
        "\n",
        "print(Tabla)\n",
        "print(\"\\nComo se puede observar el error disminuye bastante aproximadamente en h = 0.5, de hay para adelante el error va subiendo\\n\" \\\n",
        "\"Esto se debe a las aproximaciones erroneas que hace la maquina\\n\")\n",
        "\n",
        "#-------------\n",
        "\n",
        "dfuncion = lambda x: -np.sin(x)                                             #Primera derivada analitica de cos(x)\n",
        "\n",
        "Derivada2 = five_point_derivate( dfuncion , preimagenes , 0.05)             #Derivamos la primera derivada en los puntos con h=0.05\n",
        "Interpolacion2 = CubicSpline(preimagenes , Derivada2 )                      #Realizamos nuevamente una interpolación\n",
        "Derivada2_puntual = Interpolacion2(np.pi/8)                                 #Evaluamos el punto\n",
        "Error2 = abs( -np.cos( np.pi/8 ) - Derivada2_puntual )                      #Calculamos el error\n",
        "\n",
        "print(\"El valor de la segunda derivada en pi/8 es de:\",Derivada2_puntual ,\"\\nSu error absoluto es de:\", Error2)\n",
        "\n",
        "print()\n",
        "\n",
        "Derivadas_puntuales2 = []\n",
        "Errores2 = []\n",
        "\n",
        "for h in Tolerancias:                                                   #El mismo ciclo que hicimos antes pero ahora con la segunda derivada\n",
        "    Derivada2 = five_point_derivate( dfuncion , preimagenes , h)\n",
        "    Interpolacion2 = CubicSpline(preimagenes , Derivada2)\n",
        "    Derivadas_puntuales2.append( Interpolacion2(np.pi/8) )\n",
        "    Errores2.append(1000*( abs( - np.cos(np.pi/8) - Interpolacion2(np.pi/8)  ) ) )\n",
        "\n",
        "Tabla = pd.DataFrame({ \"Tolerancias(h)\": Tolerancias , \"Derivada(pi/8)\": Derivadas_puntuales2 , \"Error (1e-3)\": Errores2})\n",
        "\n",
        "print(Tabla)\n",
        "print(\"\\nComo se puede observar el error disminuye bastante aproximadamente en h = 0.5 nuevamente, por lo que podemos concluir que el metodo de derivadas\\n\" \\\n",
        "\"con 5 puntos es efectivo con un h no muy grande ya que converge muy rapido \")"
      ]
    },
    {
      "cell_type": "markdown",
      "metadata": {
        "id": "Dx40CzPL-V8i"
      },
      "source": [
        "#2.\n",
        "Considere la función:\n",
        "\n",
        "$$f(x) = x e^x$$\n",
        "\n",
        "Encuentre la derivada númerica $f'(x)$ y $f''(x)$ para $x = 2.0$ usando diferencias finitas. Considere un arreglo con 6 puntos $[1.8\\leq x\\leq 2.2]$.\n",
        "\n",
        "*   Cambie los valores de $h$ desde 0.01 hasta 0.1 (tomando 10 diferentes) y compare su resultado con el dado por `scipy` y `numpy.gradient`. Realice un gráfico logaritmico de los errores.\n",
        "\n",
        "*   ¿Cuál será el valor óptimo de $h$?"
      ]
    },
    {
      "cell_type": "code",
      "execution_count": 4,
      "metadata": {
        "id": "a2ZJlGT58g3Z"
      },
      "outputs": [
        {
          "name": "stdout",
          "output_type": "stream",
          "text": [
            "   Tolerancias(h)   Derivada_Punt.(2)   Derivada_Scipy(2)    Derivada_Gra.(2)  \\\n",
            "0        0.010000  22.166855173686166  22.167168296791065   22.16778405577715   \n",
            "1        0.012915  22.166994750503605   22.16716829304825   22.16819544578674   \n",
            "2        0.016681  22.167329929310874  22.167168296778133  22.168881703342418   \n",
            "3        0.021544   22.16802123970039  22.167168277442745    22.1700264503416   \n",
            "4        0.027826   22.16934517996735  22.167168265919305  22.171935152419223   \n",
            "5        0.035938  22.171774271377057  22.167168079490597  22.174985693659778   \n",
            "6        0.046416  22.176111411850655   22.16716789107928   22.18039866193303   \n",
            "7        0.059948  22.183715163800123  22.167166231646465  22.189669567817752   \n",
            "8        0.077426  22.196877409913217  22.167165335126736  22.219365556965023   \n",
            "9        0.100000  22.219456670409578  22.167168296791065  22.228786880307325   \n",
            "\n",
            "   Error_DP   Error_G       Error_S  \n",
            "0  0.000313  0.000616  8.846257e-13  \n",
            "1  0.000174  0.001027  3.743700e-09  \n",
            "2  0.000162  0.001713  1.381650e-11  \n",
            "3  0.000853  0.002858  1.934920e-08  \n",
            "4  0.002177  0.004767  3.087264e-08  \n",
            "5  0.004606  0.007817  2.173014e-07  \n",
            "6  0.008943  0.013230  4.057127e-07  \n",
            "7  0.016547  0.022501  2.065145e-06  \n",
            "8  0.029709  0.052197  2.961665e-06  \n",
            "9  0.052288  0.061619  8.846257e-13  \n"
          ]
        },
        {
          "data": {
            "image/png": "[encoded data removed]",
            "text/plain": [
              "<Figure size 640x480 with 1 Axes>"
            ]
          },
          "metadata": {},
          "output_type": "display_data"
        },
        {
          "name": "stdout",
          "output_type": "stream",
          "text": [
            "Vemos como el metodo de scipy gana por su error muy bajo, despues le sigue nuestra funcion de diferencias finitas y despues se encuentra el np.gradient\n",
            "Pero para los 3 el valor mas optimo para h es el de 0.01 ya que el error es lo mas bajo que puede ser\n"
          ]
        }
      ],
      "source": [
        "#Ejercicio 2 - Primera derivada\n",
        "\n",
        "funcion = lambda x: x * np.exp(x)\n",
        "dfuncion = lambda x: (x+1)*np.exp(x)\n",
        "\n",
        "preimagenes = np.linspace(1.8 , 2.2 , 6) \n",
        "\n",
        "\"\"\"\n",
        "Funcion Diferencias_finitas\n",
        "\n",
        "Entrada:\n",
        "f = La función principal\n",
        "x = Array de los puntos que seran derivados\n",
        "h = El diferencial de longitud\n",
        "\n",
        "Salida:\n",
        "diff = Array de pendientes de los puntos\n",
        "\n",
        "\"\"\"\n",
        "\n",
        "def Diferencias_finitas( f , x , h ):\n",
        "    \n",
        "    diff = np.zeros_like(x)\n",
        "\n",
        "    for n in range( 0 , len(x) ):\n",
        "        if n == 0:\n",
        "            diff[n] = ( f(x[n] + h) - f(x[n]    ) ) / (h)\n",
        "        elif n == len(x) - 1:\n",
        "            diff[n] = ( f(x[n]    ) - f(x[n] - h) ) / (h)\n",
        "        else:\n",
        "            diff[n] = ( f(x[n] + h) - f(x[n] - h) ) / (2*h)\n",
        "    return diff\n",
        "\n",
        "Tolerancias = np.logspace( -2 , -1 , 10 )                                    #Diferenciales para la derivada\n",
        "\n",
        "Derivadas_puntuales = []\n",
        "Error_DP = []\n",
        "Gradient = []\n",
        "Error_G = []\n",
        "Scipy = []\n",
        "Error_S = []\n",
        "\n",
        "for h in Tolerancias:\n",
        "    #DIFERENCIAS FINITAS\n",
        "    Derivada = Diferencias_finitas( funcion , preimagenes , h)              #Se calcula la derivada en los puntos con algun h\n",
        "    Interpolacion = CubicSpline(preimagenes , Derivada)                     #Se interpolan los puntos para evaluar pi/8\n",
        "    Derivadas_puntuales.append( Interpolacion(2.0) )                    #Se calcula el punto por medio de la interpolación\n",
        "    Error_DP.append( abs( dfuncion(2.0) - Interpolacion(2.0)) )      #Se calcula el error con el valor real de la derivada\n",
        "    \n",
        "    #--------------\n",
        "    x = np.arange(1.8 , 2.2+h , h )                     #Se necesita que sea espaciado con h\n",
        "    #--------------\n",
        "    \n",
        "    #NUMPY.GRADIENT\n",
        "    Derivada_G = np.gradient(funcion(x), h)\n",
        "    Interpolacion = CubicSpline(x , Derivada_G ) \n",
        "    Gradient.append(Interpolacion(2))\n",
        "    Error_G.append( abs( dfuncion(2.0) - Interpolacion(2.0)) )\n",
        "    #SCIPY  \n",
        "    Derivada_S = derivative(funcion , x)\n",
        "    Interpolacion = CubicSpline(x , Derivada_S.df ) \n",
        "    Scipy.append(Interpolacion(2))\n",
        "    Error_S.append( abs( dfuncion(2.0) - Interpolacion(2.0)) )\n",
        "\n",
        "\n",
        "Tabla = pd.DataFrame({ \"Tolerancias(h)\": Tolerancias , \"Derivada_Punt.(2)\": Derivadas_puntuales ,\"Derivada_Scipy(2)\":Scipy,\n",
        "\"Derivada_Gra.(2)\": Gradient , \"Error_DP\": Error_DP, \"Error_G\": Error_G, \"Error_S\": Error_S})\n",
        "\n",
        "print(Tabla)\n",
        "\n",
        "#-------------------------------------\n",
        "plt.style.use(\"classic\")\n",
        "\n",
        "plt.scatter(Tolerancias , Error_DP , color = \"red\" , label=\"Diferencias finitas\")\n",
        "plt.scatter(Tolerancias , Error_G , color = \"green\" , label=\"Gradient\")\n",
        "plt.scatter(Tolerancias , Error_S , color = \"blue\" , label=\"Scipy\")\n",
        "\n",
        "plt.xscale(\"log\")\n",
        "\n",
        "plt.title(\"Errores de las derivadas\")\n",
        "\n",
        "plt.xlabel(\"Tolerancia (h)\")\n",
        "plt.ylabel(\"Errores absolutos\")\n",
        "\n",
        "plt.xlim(1e-1 + 1e-2 , 1e-2 - 1e-3)\n",
        "plt.legend()\n",
        "plt.grid()\n",
        "plt.show()\n",
        "\n",
        "print(\"Vemos como el metodo de scipy gana por su error muy bajo, despues le sigue nuestra funcion de diferencias finitas y despues se encuentra el np.gradient\")\n",
        "print(\"Pero para los 3 el valor mas optimo para h es el de 0.01 ya que el error es lo mas bajo que puede ser\")"
      ]
    },
    {
      "cell_type": "code",
      "execution_count": 5,
      "metadata": {},
      "outputs": [
        {
          "name": "stdout",
          "output_type": "stream",
          "text": [
            "   Tolerancias(h)   Derivada_Punt.(2)   Derivada_Scipy(2)    Derivada_Gra.(2)  \\\n",
            "0        0.010000  29.555848945499076    29.5562243957217  29.556963306258588   \n",
            "1        0.012915   29.55601658215092  29.556224391444157  29.557456974044648   \n",
            "2        0.016681  29.556418983275982  29.556224395706796  29.558280481640015   \n",
            "3        0.021544  29.557248796205194  29.556224373613095  29.559654167963593   \n",
            "4        0.027826  29.558837832906015  29.556224360452937  29.561944457708684   \n",
            "5        0.035938   29.56175313299084  29.556224147342395   29.56559793168227   \n",
            "6        0.046416  29.566958179903995  29.556223932211815   29.57211212135721   \n",
            "7        0.059948  29.576083219665716    29.5562220361095   29.58317639385491   \n",
            "8        0.077426  29.591878367292683  29.556221022022566  29.619661772838583   \n",
            "9        0.100000  29.618973351949432    29.5562243957217   29.63016423174926   \n",
            "\n",
            "   Error_DP   Error_G       Error_S  \n",
            "0  0.000375  0.000739  9.023893e-13  \n",
            "1  0.000208  0.001233  4.278444e-09  \n",
            "2  0.000195  0.002056  1.580602e-11  \n",
            "3  0.001024  0.003430  2.210951e-08  \n",
            "4  0.002613  0.005720  3.526966e-08  \n",
            "5  0.005529  0.009374  2.483802e-07  \n",
            "6  0.010734  0.015888  4.635108e-07  \n",
            "7  0.019859  0.026952  2.359613e-06  \n",
            "8  0.035654  0.063437  3.373700e-06  \n",
            "9  0.062749  0.073940  9.023893e-13  \n"
          ]
        },
        {
          "data": {
            "image/png": "[encoded data removed]",
            "text/plain": [
              "<Figure size 640x480 with 1 Axes>"
            ]
          },
          "metadata": {},
          "output_type": "display_data"
        },
        {
          "name": "stdout",
          "output_type": "stream",
          "text": [
            "Vemos como el metodo de scipy gana por su error muy bajo, despues le sigue nuestra funcion de diferencias finitas y despues se encuentra el np.gradient\n",
            "Pero para los 3 el valor mas optimo para h es el de 0.01 ya que el error es lo mas bajo que puede ser\n",
            "Para la segunda derivada se uso el mismo proceso que el de la primera solo que cambiando la funcion por su derivada\n"
          ]
        }
      ],
      "source": [
        "#Ejercicio 2 - Segunda derivada\n",
        "\n",
        "d2funcion = lambda x: (x+2)*np.exp(x)\n",
        "\n",
        "Tolerancias = np.logspace( -2 , -1 , 10 )                                    #Diferenciales para la derivada\n",
        "\n",
        "Derivadas_puntuales = []\n",
        "Error_DP = []\n",
        "Gradient = []\n",
        "Error_G = []\n",
        "Scipy = []\n",
        "Error_S = []\n",
        "\n",
        "for h in Tolerancias:\n",
        "    #DIFERENCIAS FINITAS\n",
        "    Derivada = Diferencias_finitas( dfuncion , preimagenes , h)              #Se calcula la derivada en los puntos con algun h\n",
        "    Interpolacion = CubicSpline(preimagenes , Derivada)                     #Se interpolan los puntos para evaluar pi/8\n",
        "    Derivadas_puntuales.append( Interpolacion(2.0) )                    #Se calcula el punto por medio de la interpolación\n",
        "    Error_DP.append( abs( d2funcion(2.0) - Interpolacion(2.0)) )      #Se calcula el error con el valor real de la derivada\n",
        "    #-------------\n",
        "    x = np.arange(1.8 , 2.2+h , h )                         #Se necesita que sea espaciado con h\n",
        "    #-------------\n",
        "    #NUMPY.GRADIENT\n",
        "    Derivada_G = np.gradient(dfuncion(x), h)\n",
        "    Interpolacion = CubicSpline(x , Derivada_G ) \n",
        "    Gradient.append(Interpolacion(2))\n",
        "    Error_G.append( abs( d2funcion(2.0) - Interpolacion(2.0)) )\n",
        "    #SCIPY  \n",
        "    Derivada_S = derivative(dfuncion , x)\n",
        "    Interpolacion = CubicSpline(x , Derivada_S.df ) \n",
        "    Scipy.append(Interpolacion(2))\n",
        "    Error_S.append( abs( d2funcion(2.0) - Interpolacion(2.0)) )\n",
        "\n",
        "\n",
        "Tabla = pd.DataFrame({ \"Tolerancias(h)\": Tolerancias , \"Derivada_Punt.(2)\": Derivadas_puntuales ,\"Derivada_Scipy(2)\":Scipy,\n",
        "\"Derivada_Gra.(2)\": Gradient , \"Error_DP\": Error_DP, \"Error_G\": Error_G, \"Error_S\": Error_S})\n",
        "\n",
        "print(Tabla)\n",
        "\n",
        "#-------------------------------------\n",
        "\n",
        "plt.scatter(Tolerancias , Error_DP , color = \"red\" , label=\"Diferencias finitas\")\n",
        "plt.scatter(Tolerancias , Error_G , color = \"green\" , label=\"Gradient\")\n",
        "plt.scatter(Tolerancias , Error_S , color = \"blue\" , label=\"Scipy\")\n",
        "\n",
        "plt.xscale(\"log\")\n",
        "\n",
        "plt.title(\"Errores de las derivadas\")\n",
        "\n",
        "plt.xlabel(\"Tolerancia (h)\")\n",
        "plt.ylabel(\"Errores absolutos\")\n",
        "\n",
        "plt.xlim(1e-1 + 1e-2 , 1e-2 - 1e-3)\n",
        "plt.legend()\n",
        "plt.grid()\n",
        "plt.show()\n",
        "\n",
        "print(\"Vemos como el metodo de scipy gana por su error muy bajo, despues le sigue nuestra funcion de diferencias finitas y despues se encuentra el np.gradient\")\n",
        "print(\"Pero para los 3 el valor mas optimo para h es el de 0.01 ya que el error es lo mas bajo que puede ser\")\n",
        "\n",
        "print(\"Para la segunda derivada se uso el mismo proceso que el de la primera solo que cambiando la funcion por su derivada\")"
      ]
    }
  ],
  "metadata": {
    "colab": {
      "include_colab_link": true,
      "provenance": []
    },
    "kernelspec": {
      "display_name": "Python 3",
      "name": "python3"
    },
    "language_info": {
      "codemirror_mode": {
        "name": "ipython",
        "version": 3
      },
      "file_extension": ".py",
      "mimetype": "text/x-python",
      "name": "python",
      "nbconvert_exporter": "python",
      "pygments_lexer": "ipython3",
      "version": "3.13.2"
    }
  },
  "nbformat": 4,
  "nbformat_minor": 0
}
